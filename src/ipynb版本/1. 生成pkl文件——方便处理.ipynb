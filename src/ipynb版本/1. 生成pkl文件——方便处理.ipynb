{
 "cells": [
  {
   "cell_type": "code",
   "execution_count": 1,
   "metadata": {},
   "outputs": [],
   "source": [
    "# -----------------------------------------------------------------------\n",
    "# author: Huang Jintao\n",
    "# date: 2020-5-10\n",
    "#\n",
    "# 该文件功能:\n",
    "# 1. 文件以starttime升序排序.\n",
    "# 2. 添加【经纬度】字段: geohash -> 经纬度\n",
    "#       latitude_start\n",
    "#       longitude_start\n",
    "#       latitude_end\n",
    "#       longitude_end\n",
    "# 3. 添加endtime: 通过假定10km/h的骑行速度、starttime以及开始点与终止点的位置，计算endtime.\n",
    "# 4. 将全部的信息保存成pkl文件: \"完整.pkl\"\n",
    "#   全部字段:\n",
    "#       1. orderid\n",
    "#       2. userid\n",
    "#       3. bikeid\n",
    "#       4. biketype\n",
    "#       5. starttime\n",
    "#       6. geohashed_start_loc\n",
    "#       7. geohashed_end_loc\n",
    "#       8. latitude_start\n",
    "#       9. longitude_start\n",
    "#       10. latitude_end\n",
    "#       11. longitude_end\n",
    "#       12. endtime\n",
    "# ----------------------------------\n",
    "# 5. 选取2017-05-10 ~ 2017-05-16的数据\n",
    "#   由于2017-05-17 ~ 2017-05-24的数据存在问题，所以会进行去除. 只使用2017-05-10 ~ 2017-05-16的数据\n",
    "#   例如:\n",
    "#       1. 2017-05-17 单天数据缺失\n",
    "#       2. 2017-05-20 18:07:34-23:35:07 数据丢失\n",
    "#       3. 2017-05-17 ~ 2017-05-24 数据分布紊乱，毫无规律\n",
    "#       ...\n",
    "#\n",
    "# 6. 保存节选数据，保存为: \"节选.pkl\"\n",
    "# -----------------------------------------------------------------------\n"
   ]
  },
  {
   "cell_type": "code",
   "execution_count": 2,
   "metadata": {},
   "outputs": [],
   "source": [
    "import pandas as pd\n",
    "import numpy as np\n",
    "from utils.geohash import decode_exactly"
   ]
  },
  {
   "cell_type": "code",
   "execution_count": 3,
   "metadata": {},
   "outputs": [],
   "source": [
    "# 1. 文件以starttime升序排序.\n",
    "data = pd.read_csv(\"files/mobike_train_data.csv\", dtype={\n",
    "    \"orderid\": np.int32,\n",
    "    \"userid\": np.int32,\n",
    "    \"bikeid\": np.int32,\n",
    "    \"biketype\": np.int8,\n",
    "    \"starttime\": np.object,  # str\n",
    "    \"geohashed_start_loc\": np.object,  # str\n",
    "    \"geohashed_end_loc\": np.object,  # str\n",
    "})\n",
    "data[\"starttime\"] = pd.to_datetime(data[\"starttime\"], format=\"%Y-%m-%d %H:%M:%S\")\n",
    "data.sort_values(\"starttime\", axis=0, ascending=True, inplace=True)\n",
    "data.reset_index(drop=True, inplace=True)"
   ]
  },
  {
   "cell_type": "code",
   "execution_count": 4,
   "metadata": {},
   "outputs": [
    {
     "name": "stdout",
     "output_type": "stream",
     "text": [
      ">> 3214096 / 3214096\n"
     ]
    }
   ],
   "source": [
    "# 2. 添加【经纬度】字段: geohash -> 经纬度\n",
    "# 2.1 获取数据\n",
    "data['latitude_start'] = pd.Series(dtype=np.float64)\n",
    "data['longitude_start'] = pd.Series(dtype=np.float64)\n",
    "data['latitude_end'] = pd.Series(dtype=np.float64)\n",
    "data['longitude_end'] = pd.Series(dtype=np.float64)\n",
    "geohashed_start_loc_arr = data['geohashed_start_loc'].to_numpy()\n",
    "geohashed_end_loc_arr = data['geohashed_end_loc'].to_numpy()\n",
    "latitude_start_arr = data[\"latitude_start\"].to_numpy()\n",
    "longitude_start_arr = data[\"longitude_start\"].to_numpy()\n",
    "latitude_end_arr = data[\"latitude_end\"].to_numpy()\n",
    "longitude_end_arr = data[\"longitude_end\"].to_numpy()\n",
    "\n",
    "# 2.2 geohash -> 经纬度\n",
    "for i in range(data.shape[0]):\n",
    "    latitude_start, longitude_start, _, _ = decode_exactly(geohashed_start_loc_arr[i])\n",
    "    latitude_end, longitude_end, _, _ = decode_exactly(geohashed_end_loc_arr[i])\n",
    "    latitude_start_arr[i] = latitude_start\n",
    "    longitude_start_arr[i] = longitude_start\n",
    "    latitude_end_arr[i] = latitude_end\n",
    "    longitude_end_arr[i] = longitude_end\n",
    "    if i % 10000 == 0:\n",
    "        print(\"\\r>> %d / %d\" % (i + 1, data.shape[0]), end=\"\")\n",
    "print(\"\\r>> %d / %d\" % (data.shape[0], data.shape[0]))\n",
    "# 由此可得: error = 0.0006866455078125, 每个单元格间距: 0.001373291015625\n"
   ]
  },
  {
   "cell_type": "code",
   "execution_count": 5,
   "metadata": {},
   "outputs": [],
   "source": [
    "# 3. 添加endtime\n",
    "starttime = data['starttime'].to_numpy()\n",
    "# 在北京(以下数据为大概数):\n",
    "#   1经度 = 85.24057242392219km\n",
    "#   1维度 = 111.11111111111111km\n",
    "# 公式:\n",
    "#   地球周长 = 40000km\n",
    "#   1纬度 = 地球周长 / 360\n",
    "#   1经度 = cos(当前纬度) * 地球周长 / 360\n",
    "#   北京纬度 约为39.9度\n",
    "\n",
    "distance = np.abs(longitude_end_arr - longitude_start_arr) * 85.24057242392219 + \\\n",
    "           np.abs(latitude_end_arr - latitude_start_arr) * 111.11111111111111  # 骑行距离 km\n",
    "speed = 10  # km/h.  10-12km/h, 计算红绿灯 所以时速设为10km/h\n",
    "endtime = starttime + distance / speed * pd.Timedelta(hours=1)\n",
    "data['endtime'] = endtime"
   ]
  },
  {
   "cell_type": "code",
   "execution_count": 6,
   "metadata": {},
   "outputs": [
    {
     "name": "stdout",
     "output_type": "stream",
     "text": [
      "orderid                         int32\n",
      "userid                          int32\n",
      "bikeid                          int32\n",
      "biketype                         int8\n",
      "starttime              datetime64[ns]\n",
      "geohashed_start_loc            object\n",
      "geohashed_end_loc              object\n",
      "latitude_start                float64\n",
      "longitude_start               float64\n",
      "latitude_end                  float64\n",
      "longitude_end                 float64\n",
      "endtime                datetime64[ns]\n",
      "dtype: object\n",
      "数据量: 3214096\n"
     ]
    }
   ],
   "source": [
    "# 4. 将全部的信息保存成pkl文件: \"完整.pkl\"\n",
    "print(data.dtypes)\n",
    "print(\"数据量: %d\" % data.shape[0])\n",
    "pd.to_pickle(data, \"files/完整.pkl\")\n"
   ]
  },
  {
   "cell_type": "code",
   "execution_count": 7,
   "metadata": {},
   "outputs": [],
   "source": [
    "# 5. 只使用2017-05-10 ~ 2017-05-16的数据\n",
    "# data = pd.read_pickle(\"files/完整.pkl\")\n",
    "starttime = data['starttime'].to_numpy()\n",
    "idx_max = np.max(np.nonzero(starttime <= pd.Timestamp(year=2017, month=5, day=17).to_numpy())[0])\n",
    "data = data.iloc[:idx_max + 1, :]  # 由于是升序排序的"
   ]
  },
  {
   "cell_type": "code",
   "execution_count": 8,
   "metadata": {},
   "outputs": [],
   "source": [
    "# 6. 保存节选数据，保存为: \"节选.pkl\"\n",
    "pd.to_pickle(data, \"files/节选.pkl\")"
   ]
  }
 ],
 "metadata": {
  "kernelspec": {
   "display_name": "Python 3",
   "language": "python",
   "name": "python3"
  },
  "language_info": {
   "codemirror_mode": {
    "name": "ipython",
    "version": 3
   },
   "file_extension": ".py",
   "mimetype": "text/x-python",
   "name": "python",
   "nbconvert_exporter": "python",
   "pygments_lexer": "ipython3",
   "version": "3.6.8"
  },
  "pycharm": {
   "stem_cell": {
    "cell_type": "raw",
    "source": [],
    "metadata": {
     "collapsed": false
    }
   }
  }
 },
 "nbformat": 4,
 "nbformat_minor": 2
}