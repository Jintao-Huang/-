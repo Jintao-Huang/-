{
 "cells": [
  {
   "cell_type": "code",
   "execution_count": null,
   "outputs": [],
   "source": [
    "# -----------------------------------------------------------------------\n",
    "# author: Huang Jintao\n",
    "# date: 2020-5-10\n",
    "#\n",
    "# 该文件功能:\n",
    "#   骑行习惯——饼图\n",
    "\n",
    "# -----------------------------------------------------------------------\n"
   ],
   "metadata": {
    "collapsed": false,
    "pycharm": {
     "name": "#%%\n"
    }
   }
  },
  {
   "cell_type": "code",
   "execution_count": null,
   "outputs": [],
   "source": [
    "import matplotlib.pyplot as plt\n",
    "import numpy as np\n",
    "import pandas as pd\n",
    "%matplotlib inline\n",
    "\n",
    "# 中文字体环境设置\n",
    "plt.rcParams['font.sans-serif'].insert(0, 'SimSun')\n",
    "plt.rcParams['axes.unicode_minus'] = False\n",
    "\n",
    "# 骑行习惯——饼图\n",
    "\n",
    "# 1. 获取数据\n",
    "data = pd.read_pickle(\"files/节选.pkl\")\n",
    "\n",
    "latitude_start_arr = data[\"latitude_start\"].to_numpy()\n",
    "longitude_start_arr = data[\"longitude_start\"].to_numpy()\n",
    "latitude_end_arr = data[\"latitude_end\"].to_numpy()\n",
    "longitude_end_arr = data[\"longitude_end\"].to_numpy()\n"
   ],
   "metadata": {
    "collapsed": false,
    "pycharm": {
     "name": "#%%\n"
    }
   }
  },
  {
   "cell_type": "code",
   "execution_count": null,
   "outputs": [],
   "source": [
    "# 2. 算法: 计算distance分布\n",
    "def get_distance_distribute(distance, split_line):\n",
    "    \"\"\"计算距离的分布\n",
    "\n",
    "    :param distance: 距离的arr. shape(N,)\n",
    "    :param split_line: List[分割线: int].  例如: [1, 5] 代表 [-inf, 1], [1, 5], [5, +inf]\n",
    "    :return: List[int]. len = len(distribute) + 1\n",
    "    \"\"\"\n",
    "\n",
    "    def get_inserted_index(x, arr):\n",
    "        \"\"\"arr是一个从小到大的arr, x插入arr应该在的下标(二分查找)\"\"\"\n",
    "\n",
    "        lo, hi = 0, len(arr)\n",
    "        while lo < hi:\n",
    "            mid = (lo + hi) // 2\n",
    "            if x < arr[mid]:\n",
    "                hi = mid\n",
    "            else:\n",
    "                lo = mid + 1\n",
    "        return lo  # lo == hi\n",
    "\n",
    "    output = np.zeros(len(split_line) + 1, dtype=np.int32)\n",
    "    for d in distance:\n",
    "        idx = get_inserted_index(d, split_line)\n",
    "        output[idx] += 1\n",
    "    return output\n",
    "\n",
    "\n",
    "distance = np.abs(longitude_end_arr - longitude_start_arr) * 85.24057242392219 + \\\n",
    "           np.abs(latitude_end_arr - latitude_start_arr) * 111.11111111111111  # 骑行距离 km\n",
    "distrib = get_distance_distribute(distance, [1, 2, 5])\n",
    "\n",
    "print(distrib.min(), distrib.max())  # 10646 1044945\n"
   ],
   "metadata": {
    "collapsed": false,
    "pycharm": {
     "name": "#%%\n"
    }
   }
  },
  {
   "cell_type": "code",
   "execution_count": null,
   "outputs": [],
   "source": [
    "# 3. 画图\n",
    "plt.figure(figsize=(6.5, 5))\n",
    "explode = [0.08, 0., 0., 0.]\n",
    "labels = [\"1km 以下\", \"1-2km\", \"2-5km\", \"5km 以上\"]\n",
    "plt.pie(distrib, explode, labels, pctdistance=0.5, autopct=\"%.2f%%\", labeldistance=None, shadow=True)\n",
    "\n",
    "plt.axis('equal')\n",
    "plt.legend(loc='upper right')\n",
    "plt.savefig(\"images/distribute.png\", dpi=200, bbox_inches='tight')\n",
    "plt.show()\n",
    "plt.close()\n"
   ],
   "metadata": {
    "collapsed": false,
    "pycharm": {
     "name": "#%%\n"
    }
   }
  }
 ],
 "metadata": {
  "kernelspec": {
   "display_name": "Python 3",
   "language": "python",
   "name": "python3"
  },
  "language_info": {
   "codemirror_mode": {
    "name": "ipython",
    "version": 3
   },
   "file_extension": ".py",
   "mimetype": "text/x-python",
   "name": "python",
   "nbconvert_exporter": "python",
   "pygments_lexer": "ipython3",
   "version": "3.6.8"
  },
  "pycharm": {
   "stem_cell": {
    "cell_type": "raw",
    "source": [],
    "metadata": {
     "collapsed": false
    }
   }
  }
 },
 "nbformat": 4,
 "nbformat_minor": 2
}