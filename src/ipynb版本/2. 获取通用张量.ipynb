{
 "cells": [
  {
   "cell_type": "code",
   "execution_count": 1,
   "metadata": {},
   "outputs": [],
   "source": [
    "# -----------------------------------------------------------------------\n",
    "# author: Huang Jintao\n",
    "# date: 2020-5-10\n",
    "#\n",
    "# 该文件功能:\n",
    "# 1. 获取通用张量start_out, end_in. shape(*区域, 时间)的3dim张量\n",
    "#   只取北京核心区的经纬度: 因为此区域外的区域单车使用率极低，被忽略计算。(经过缜密计算后选择)\n",
    "#       纬度范围: [39.66, 40.17]. 精确范围: [39.66133117675781 40.17082214355469]\n",
    "#       经度范围: [116.06, 116.73]. 精确范围: [116.06025695800781 116.73042297363281]\n",
    "#       时间范围: 2017-05-10 0:00:00 - 2017-05-17 0:00:00. 半小时切一份.\n",
    "#           使用floor(例如7:00代表7:00-7:30). 2 * 24 * 7 = 336\n",
    "#   start_out: shape(371, 488, 336). 某点含义: 当前时间段, 该区域单车使用量(-)\n",
    "#   end_in: shape(371, 488, 336). 某点含义: 当前时间段, 该区域单车归还量(+)\n",
    "\n",
    "# -----------------------------------------------------------------------\n"
   ]
  },
  {
   "cell_type": "code",
   "execution_count": 2,
   "metadata": {},
   "outputs": [],
   "source": [
    "import pandas as pd\n",
    "import numpy as np\n",
    "data = pd.read_pickle(\"files/节选.pkl\")"
   ]
  },
  {
   "cell_type": "code",
   "execution_count": 3,
   "metadata": {},
   "outputs": [
    {
     "name": "stdout",
     "output_type": "stream",
     "text": [
      ">> 1830100 / 1830100\n"
     ]
    }
   ],
   "source": [
    "\n",
    "# 1. 获取通用张量start_out, end_in. shape(371, 488, 336)\n",
    "latitude_start_arr = data[\"latitude_start\"].to_numpy()\n",
    "longitude_start_arr = data[\"longitude_start\"].to_numpy()\n",
    "latitude_end_arr = data[\"latitude_end\"].to_numpy()\n",
    "longitude_end_arr = data[\"longitude_end\"].to_numpy()\n",
    "starttime_arr = data[\"starttime\"].to_numpy()\n",
    "endtime_arr = data[\"endtime\"].to_numpy()\n",
    "\n",
    "start_out = np.zeros((371, 488, 336), dtype=np.int16)  # (-)\n",
    "end_in = np.zeros((371, 488, 336), dtype=np.int16)  # (+)\n",
    "# -------------------- 常数设置:\n",
    "interval = 0.001373291015625\n",
    "latitude_0 = 39.66133117675781\n",
    "longitude_0 = 116.06025695800781\n",
    "# --------------------\n",
    "for idx, latitude_start, longitude_start, latitude_end, longitude_end, starttime, endtime in \\\n",
    "        zip(\n",
    "            range(len(latitude_start_arr)),\n",
    "            latitude_start_arr, longitude_start_arr, latitude_end_arr, longitude_end_arr, starttime_arr, endtime_arr\n",
    "        ):\n",
    "    # ---------------- 计算对应映射的idx: i j k\n",
    "    i = int((latitude_start - latitude_0) / interval)\n",
    "    j = int((longitude_start - longitude_0) / interval)\n",
    "    k = int((starttime - pd.Timestamp(year=2017, month=5, day=10).to_numpy())\n",
    "            / pd.Timedelta(hours=0.5).to_numpy())\n",
    "    if 0 <= i < start_out.shape[0] and 0 <= j < start_out.shape[1] and 0 <= k < start_out.shape[2]:\n",
    "        start_out[i, j, k] -= 1  # 使用. 骑出去\n",
    "\n",
    "    i = int((latitude_end - latitude_0) / interval)\n",
    "    j = int((longitude_end - longitude_0) / interval)\n",
    "    k = int((endtime - pd.Timestamp(year=2017, month=5, day=10).to_numpy())\n",
    "            / pd.Timedelta(hours=0.5).to_numpy())\n",
    "    if 0 <= i < end_in.shape[0] and 0 <= j < end_in.shape[1] and 0 <= k < end_in.shape[2]:\n",
    "        end_in[i, j, k] += 1  # 归还. 骑进来\n",
    "\n",
    "    if idx % 10000 == 0:\n",
    "        print(\"\\r>> %d / %d\" % (idx + 1, len(latitude_start_arr)), end=\"\")\n",
    "print(\"\\r>> %d / %d\" % (len(latitude_start_arr), len(latitude_start_arr)))\n",
    "\n"
   ]
  },
  {
   "cell_type": "code",
   "execution_count": 4,
   "metadata": {},
   "outputs": [
    {
     "name": "stdout",
     "output_type": "stream",
     "text": [
      "start_out: min: -54\n",
      "end_in: max: 81\n"
     ]
    }
   ],
   "source": [
    "print(\"start_out: min: %d\" % np.min(start_out))  # -54\n",
    "print(\"end_in: max: %d\" % np.max(end_in))  # 81\n",
    "pd.to_pickle(start_out, \"files/start_out.pkl\")\n",
    "pd.to_pickle(end_in, \"files/end_in.pkl\")"
   ]
  }
 ],
 "metadata": {
  "kernelspec": {
   "display_name": "Python 3",
   "language": "python",
   "name": "python3"
  },
  "language_info": {
   "codemirror_mode": {
    "name": "ipython",
    "version": 3
   },
   "file_extension": ".py",
   "mimetype": "text/x-python",
   "name": "python",
   "nbconvert_exporter": "python",
   "pygments_lexer": "ipython3",
   "version": "3.6.8"
  },
  "pycharm": {
   "stem_cell": {
    "cell_type": "raw",
    "metadata": {
     "collapsed": false
    },
    "source": []
   }
  }
 },
 "nbformat": 4,
 "nbformat_minor": 2
}
